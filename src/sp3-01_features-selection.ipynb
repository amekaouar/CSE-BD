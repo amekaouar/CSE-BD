{
 "cells": [
  {
   "cell_type": "markdown",
   "metadata": {},
   "source": [
    "# Executive Certificate Big Data - Centrale Supelec - Octobre 2018\n",
    "# Détection d’intrusion réseau à l’aide de l’apprentissage automatique\n",
    "### Notebook : sp3-01_features-selection\n",
    "### Auteur : Ahmed Mekaouar"
   ]
  },
  {
   "cell_type": "markdown",
   "metadata": {},
   "source": [
    "# Features Selection using Random Forest"
   ]
  },
  {
   "cell_type": "code",
   "execution_count": 18,
   "metadata": {
    "collapsed": true
   },
   "outputs": [],
   "source": [
    "import os\n",
    "import pandas as pd\n",
    "import numpy as np\n",
    "%matplotlib inline"
   ]
  },
  {
   "cell_type": "code",
   "execution_count": 2,
   "metadata": {
    "collapsed": true
   },
   "outputs": [],
   "source": [
    "from sklearn.metrics import accuracy_score,precision_score,recall_score, f1_score\n",
    "def model_metrics(y_test,y_test_pred):\n",
    "\n",
    "    print( 'Accuracy: %.4f' %accuracy_score(y_test,y_test_pred))\n",
    "    print( 'Precision weighted: %.4f' %precision_score(y_test,y_test_pred,average='weighted'))\n",
    "    print( 'Recall weighted: %.4f' %recall_score(y_test,y_test_pred,average='weighted'))\n",
    "    print( 'F1 weighted: %.4f' %f1_score(y_test,y_test_pred,average='weighted'))"
   ]
  },
  {
   "cell_type": "code",
   "execution_count": 19,
   "metadata": {
    "collapsed": true
   },
   "outputs": [],
   "source": [
    "# This code is an adpatation from \"TP machine learning - executive certificate big data - Centrale Sup Elec - C. Kermorvant\"\n",
    "# Better display of the confusion matrix\n",
    "import itertools\n",
    "import numpy as np\n",
    "import matplotlib.pyplot as plt\n",
    "def plot_confusion_matrix(cm, classes,\n",
    "                          title='Confusion matrix',\n",
    "                          cmap=plt.cm.Blues):\n",
    "    \"\"\"\n",
    "    This function plots the confusion matrix.\n",
    "    \"\"\"\n",
    "    #print(cm)\n",
    "    plt.figure(figsize=(20,10))\n",
    "    plt.imshow(cm, interpolation='nearest', cmap=cmap)\n",
    "    plt.title(title)\n",
    "    plt.colorbar()\n",
    "    tick_marks = np.arange(len(classes))\n",
    "    plt.xticks(tick_marks, classes, rotation=45)\n",
    "    plt.yticks(tick_marks, classes)\n",
    "  \n",
    "    thresh = cm.max() / 2.\n",
    "    for i, j in itertools.product(range(cm.shape[0]), range(cm.shape[1])):\n",
    "        plt.text(j, i, format(cm[i, j], 'd'),\n",
    "                 horizontalalignment=\"center\",\n",
    "                 color=\"white\" if cm[i, j] > thresh else \"black\")\n",
    "    #plt.tight_layout()\n",
    "    plt.ylabel('True label')\n",
    "    plt.xlabel('Predicted label')"
   ]
  },
  {
   "cell_type": "markdown",
   "metadata": {},
   "source": [
    "### Load data"
   ]
  },
  {
   "cell_type": "code",
   "execution_count": 4,
   "metadata": {
    "collapsed": true
   },
   "outputs": [],
   "source": [
    "intermediary_data_path = os.path.join(os.path.pardir,'data','intermediary')\n",
    "train_baseline_file_path = os.path.join(intermediary_data_path, 'train_baseline.csv')\n",
    "train_attacks_file_path = os.path.join(intermediary_data_path, 'train_attacks.csv')"
   ]
  },
  {
   "cell_type": "code",
   "execution_count": 5,
   "metadata": {
    "collapsed": true
   },
   "outputs": [],
   "source": [
    "df = pd.concat([pd.read_csv(train_baseline_file_path ),\n",
    "                pd.read_csv(train_attacks_file_path )])"
   ]
  },
  {
   "cell_type": "code",
   "execution_count": 6,
   "metadata": {
    "collapsed": true
   },
   "outputs": [],
   "source": [
    "df.drop(columns='Flow ID',inplace=True)"
   ]
  },
  {
   "cell_type": "code",
   "execution_count": 7,
   "metadata": {},
   "outputs": [
    {
     "data": {
      "text/plain": [
       "(2517116, 69)"
      ]
     },
     "execution_count": 7,
     "metadata": {},
     "output_type": "execute_result"
    }
   ],
   "source": [
    "df.shape"
   ]
  },
  {
   "cell_type": "code",
   "execution_count": 8,
   "metadata": {
    "collapsed": true
   },
   "outputs": [],
   "source": [
    "# columns names list\n",
    "columns = list(df)"
   ]
  },
  {
   "cell_type": "code",
   "execution_count": 9,
   "metadata": {},
   "outputs": [
    {
     "data": {
      "text/plain": [
       "['FlowDuration',\n",
       " 'TotalFwdPackets',\n",
       " 'TotalBackwardPackets',\n",
       " 'TotalLengthofFwdPackets',\n",
       " 'TotalLengthofBwdPackets',\n",
       " 'FwdPacketLengthMax',\n",
       " 'FwdPacketLengthMin',\n",
       " 'FwdPacketLengthMean',\n",
       " 'FwdPacketLengthStd',\n",
       " 'BwdPacketLengthMax',\n",
       " 'BwdPacketLengthMin',\n",
       " 'BwdPacketLengthMean',\n",
       " 'BwdPacketLengthStd',\n",
       " 'FlowBytesPs',\n",
       " 'FlowPackets/s',\n",
       " 'FlowIATMean',\n",
       " 'FlowIATStd',\n",
       " 'FlowIATMax',\n",
       " 'FlowIATMin',\n",
       " 'FwdIATTotal',\n",
       " 'FwdIATMean',\n",
       " 'FwdIATStd',\n",
       " 'FwdIATMax',\n",
       " 'FwdIATMin',\n",
       " 'BwdIATTotal',\n",
       " 'BwdIATMean',\n",
       " 'BwdIATStd',\n",
       " 'BwdIATMax',\n",
       " 'BwdIATMin',\n",
       " 'FwdPSHFlags',\n",
       " 'FwdURGFlags',\n",
       " 'FwdHeaderLength',\n",
       " 'BwdHeaderLength',\n",
       " 'FwdPackets/s',\n",
       " 'BwdPackets/s',\n",
       " 'MinPacketLength',\n",
       " 'MaxPacketLength',\n",
       " 'PacketLengthMean',\n",
       " 'PacketLengthStd',\n",
       " 'PacketLengthVariance',\n",
       " 'FINFlagCount',\n",
       " 'SYNFlagCount',\n",
       " 'RSTFlagCount',\n",
       " 'PSHFlagCount',\n",
       " 'ACKFlagCount',\n",
       " 'URGFlagCount',\n",
       " 'CWEFlagCount',\n",
       " 'ECEFlagCount',\n",
       " 'Down/UpRatio',\n",
       " 'AveragePacketSize',\n",
       " 'AvgFwdSegmentSize',\n",
       " 'AvgBwdSegmentSize',\n",
       " 'SubflowFwdPackets',\n",
       " 'SubflowFwdBytes',\n",
       " 'SubflowBwdPackets',\n",
       " 'SubflowBwdBytes',\n",
       " 'Init_Win_bytes_forward',\n",
       " 'Init_Win_bytes_backward',\n",
       " 'act_data_pkt_fwd',\n",
       " 'min_seg_size_forward',\n",
       " 'ActiveMean',\n",
       " 'ActiveStd',\n",
       " 'ActiveMax',\n",
       " 'ActiveMin',\n",
       " 'IdleMean',\n",
       " 'IdleStd',\n",
       " 'IdleMax',\n",
       " 'IdleMin',\n",
       " 'Label']"
      ]
     },
     "execution_count": 9,
     "metadata": {},
     "output_type": "execute_result"
    }
   ],
   "source": [
    "columns"
   ]
  },
  {
   "cell_type": "code",
   "execution_count": 13,
   "metadata": {
    "collapsed": true
   },
   "outputs": [],
   "source": [
    "# Split the data : 80% for RF training and 20% for eveluating the model.\n",
    "# Oversampling should be done only on training data\n",
    "from sklearn.model_selection import train_test_split\n",
    "\n",
    "X_train, X_test = train_test_split(df, test_size=0.20, random_state=1)"
   ]
  },
  {
   "cell_type": "code",
   "execution_count": 21,
   "metadata": {
    "collapsed": true
   },
   "outputs": [],
   "source": [
    "# I only take 10% of BENIGN traffic then use SMOTE library to fix data unbalance issue\n",
    "X_train = pd.concat([X_train[X_train.Label=='BENIGN'].sample(frac=0.1,random_state=0),X_train[X_train.Label!='BENIGN']])\n",
    "y_train = X_train['Label']\n",
    "X_train = X_train.drop(columns=['Label'],axis=1)\n",
    "# Using SMOTE\n",
    "from imblearn.over_sampling import SMOTE\n",
    "sm = SMOTE(ratio='auto', random_state=0)\n",
    "X_train_res, y_train_res = sm.fit_sample(X_train, y_train)\n",
    "X_train_res = pd.DataFrame(X_train_res)\n",
    "X_train_res['Label'] = y_train_res\n",
    "X_train_res.columns = list(df)\n",
    "X_train = X_train_res\n",
    "y_train = X_train['Label']\n",
    "X_train = X_train.drop(columns=['Label'],axis=1)"
   ]
  },
  {
   "cell_type": "code",
   "execution_count": 12,
   "metadata": {
    "scrolled": true
   },
   "outputs": [
    {
     "data": {
      "text/plain": [
       "PortScan                    169129\n",
       "DDoS                        169129\n",
       "DoS slowloris               169129\n",
       "Web Attack Brute Force      169129\n",
       "SSH-Patator                 169129\n",
       "Web Attack XSS              169129\n",
       "Bot                         169129\n",
       "FTP-Patator                 169129\n",
       "DoS Hulk                    169129\n",
       "Web Attack Sql Injection    169129\n",
       "DoS GoldenEye               169129\n",
       "BENIGN                      169129\n",
       "Heartbleed                  169129\n",
       "Infiltration                169129\n",
       "Name: Label, dtype: int64"
      ]
     },
     "execution_count": 12,
     "metadata": {},
     "output_type": "execute_result"
    }
   ],
   "source": [
    "pd.Series(y_train).value_counts()"
   ]
  },
  {
   "cell_type": "code",
   "execution_count": 13,
   "metadata": {
    "scrolled": true
   },
   "outputs": [
    {
     "name": "stderr",
     "output_type": "stream",
     "text": [
      "[Parallel(n_jobs=-1)]: Done  42 tasks      | elapsed:  4.7min\n",
      "[Parallel(n_jobs=-1)]: Done 192 tasks      | elapsed: 21.5min\n",
      "[Parallel(n_jobs=-1)]: Done 200 out of 200 | elapsed: 22.4min finished\n"
     ]
    },
    {
     "name": "stdout",
     "output_type": "stream",
     "text": [
      "Wall time: 24min 39s\n"
     ]
    }
   ],
   "source": [
    "%%time\n",
    "# Train the model\n",
    "from sklearn.ensemble import RandomForestClassifier\n",
    "clf = RandomForestClassifier(n_estimators=200,\n",
    "                             n_jobs=-1,\n",
    "                             random_state=0,\n",
    "                             oob_score=True,\n",
    "                             class_weight='balanced',\n",
    "                             verbose=1)\n",
    "clf.fit(X_train,y_train)"
   ]
  },
  {
   "cell_type": "code",
   "execution_count": 18,
   "metadata": {},
   "outputs": [
    {
     "data": {
      "text/plain": [
       "RandomForestClassifier(bootstrap=True, class_weight='balanced',\n",
       "            criterion='gini', max_depth=None, max_features='auto',\n",
       "            max_leaf_nodes=None, min_impurity_decrease=0.0,\n",
       "            min_impurity_split=None, min_samples_leaf=1,\n",
       "            min_samples_split=2, min_weight_fraction_leaf=0.0,\n",
       "            n_estimators=200, n_jobs=-1, oob_score=True, random_state=0,\n",
       "            verbose=1, warm_start=False)"
      ]
     },
     "execution_count": 18,
     "metadata": {},
     "output_type": "execute_result"
    }
   ],
   "source": [
    "clf"
   ]
  },
  {
   "cell_type": "code",
   "execution_count": 14,
   "metadata": {},
   "outputs": [
    {
     "data": {
      "text/plain": [
       "['..\\\\models\\\\fs_RF_model_0207.pkl']"
      ]
     },
     "execution_count": 14,
     "metadata": {},
     "output_type": "execute_result"
    }
   ],
   "source": [
    "# Save classifier\n",
    "from sklearn.externals import joblib\n",
    "fs_RF_model_file = os.path.join(os.path.pardir,'models','fs_RF_model_0207.pkl')\n",
    "joblib.dump(clf, fs_RF_model_file) "
   ]
  },
  {
   "cell_type": "code",
   "execution_count": 10,
   "metadata": {
    "collapsed": true
   },
   "outputs": [],
   "source": [
    "# load first classifier\n",
    "from sklearn.externals import joblib\n",
    "first_RF_model_file = os.path.join(os.path.pardir,'models','fs_RF_model_0207.pkl')\n",
    "clf = joblib.load(first_RF_model_file)"
   ]
  },
  {
   "cell_type": "code",
   "execution_count": 11,
   "metadata": {},
   "outputs": [
    {
     "data": {
      "text/plain": [
       "0.99553975283448048"
      ]
     },
     "execution_count": 11,
     "metadata": {},
     "output_type": "execute_result"
    }
   ],
   "source": [
    "clf.oob_score_"
   ]
  },
  {
   "cell_type": "code",
   "execution_count": 14,
   "metadata": {
    "collapsed": true
   },
   "outputs": [],
   "source": [
    "y_test = X_test['Label']\n",
    "X_test = X_test.drop(columns=['Label'],axis=1)"
   ]
  },
  {
   "cell_type": "code",
   "execution_count": 15,
   "metadata": {},
   "outputs": [
    {
     "name": "stderr",
     "output_type": "stream",
     "text": [
      "[Parallel(n_jobs=4)]: Done  42 tasks      | elapsed:    3.0s\n",
      "[Parallel(n_jobs=4)]: Done 192 tasks      | elapsed:   12.4s\n"
     ]
    },
    {
     "name": "stdout",
     "output_type": "stream",
     "text": [
      "Wall time: 17.2 s\n"
     ]
    },
    {
     "name": "stderr",
     "output_type": "stream",
     "text": [
      "[Parallel(n_jobs=4)]: Done 200 out of 200 | elapsed:   12.8s finished\n"
     ]
    }
   ],
   "source": [
    "%%time\n",
    "y_test_pred = clf.predict(X_test)"
   ]
  },
  {
   "cell_type": "code",
   "execution_count": 18,
   "metadata": {},
   "outputs": [
    {
     "name": "stdout",
     "output_type": "stream",
     "text": [
      "Accuracy: 0.9715\n",
      "Precision weighted: 0.9883\n",
      "Recall weighted: 0.9715\n",
      "F1 weighted: 0.9775\n"
     ]
    }
   ],
   "source": [
    "# undersample majority class : 10% then oversample all remaining classes\n",
    "model_metrics(y_test,y_test_pred)"
   ]
  },
  {
   "cell_type": "code",
   "execution_count": 19,
   "metadata": {},
   "outputs": [
    {
     "data": {
      "image/png": "[encoded data removed]",
      "text/plain": [
       "<matplotlib.figure.Figure at 0xe000898>"
      ]
     },
     "metadata": {},
     "output_type": "display_data"
    }
   ],
   "source": [
    "from sklearn.metrics import confusion_matrix\n",
    "conf_mat=confusion_matrix(y_test,y_test_pred)\n",
    "plot_confusion_matrix(conf_mat,classes=sorted(y_test.unique()))"
   ]
  },
  {
   "cell_type": "markdown",
   "metadata": {},
   "source": [
    "## Feature importance ranking and plot"
   ]
  },
  {
   "cell_type": "code",
   "execution_count": 22,
   "metadata": {},
   "outputs": [
    {
     "name": "stdout",
     "output_type": "stream",
     "text": [
      " 1) Init_Win_bytes_backward        0.078754\n",
      " 2) Init_Win_bytes_forward         0.035087\n",
      " 3) FwdPacketLengthMax             0.034939\n",
      " 4) min_seg_size_forward           0.031537\n",
      " 5) PacketLengthMean               0.029018\n",
      " 6) SubflowFwdBytes                0.025572\n",
      " 7) BwdPacketLengthMean            0.024790\n",
      " 8) BwdPacketLengthMax             0.024562\n",
      " 9) AvgBwdSegmentSize              0.024307\n",
      "10) BwdPackets/s                   0.023839\n",
      "11) FlowIATMean                    0.023653\n",
      "12) BwdPacketLengthMin             0.023111\n",
      "13) FlowIATMin                     0.022906\n",
      "14) BwdHeaderLength                0.022014\n",
      "15) FwdIATMin                      0.021740\n",
      "16) TotalLengthofBwdPackets        0.021548\n",
      "17) FlowPackets/s                  0.021383\n",
      "18) TotalLengthofFwdPackets        0.020728\n",
      "19) SubflowBwdBytes                0.019838\n",
      "20) FwdIATMean                     0.019306\n",
      "21) AveragePacketSize              0.018960\n",
      "22) FlowDuration                   0.018541\n",
      "23) MaxPacketLength                0.018135\n",
      "24) FlowIATStd                     0.017782\n",
      "25) FwdIATTotal                    0.017776\n",
      "26) FwdPacketLengthMean            0.017283\n",
      "27) FlowBytesPs                    0.017121\n",
      "28) PacketLengthVariance           0.016894\n",
      "29) FwdIATStd                      0.016774\n",
      "30) FlowIATMax                     0.016687\n",
      "31) FwdIATMax                      0.016588\n",
      "32) PacketLengthStd                0.016365\n",
      "33) FwdPackets/s                   0.016233\n",
      "34) FwdHeaderLength                0.015763\n",
      "35) SubflowFwdPackets              0.015477\n",
      "36) AvgFwdSegmentSize              0.014766\n",
      "37) SubflowBwdPackets              0.014744\n",
      "38) act_data_pkt_fwd               0.012818\n",
      "39) FwdPacketLengthStd             0.012324\n",
      "40) TotalFwdPackets                0.012314\n",
      "41) TotalBackwardPackets           0.011787\n",
      "42) BwdIATMin                      0.009737\n",
      "43) BwdPacketLengthStd             0.009441\n",
      "44) URGFlagCount                   0.008752\n",
      "45) MinPacketLength                0.008558\n",
      "46) BwdIATMean                     0.008311\n",
      "47) PSHFlagCount                   0.007801\n",
      "48) BwdIATTotal                    0.007629\n",
      "49) IdleMean                       0.007477\n",
      "50) FwdPacketLengthMin             0.007063\n",
      "51) BwdIATMax                      0.006621\n",
      "52) ACKFlagCount                   0.005397\n",
      "53) IdleMin                        0.004964\n",
      "54) IdleMax                        0.004802\n",
      "55) BwdIATStd                      0.004211\n",
      "56) FwdPSHFlags                    0.003340\n",
      "57) Down/UpRatio                   0.003333\n",
      "58) SYNFlagCount                   0.002340\n",
      "59) ActiveMin                      0.002178\n",
      "60) ActiveMax                      0.001545\n",
      "61) ActiveMean                     0.001529\n",
      "62) FINFlagCount                   0.000637\n",
      "63) IdleStd                        0.000354\n",
      "64) ActiveStd                      0.000214\n",
      "65) CWEFlagCount                   0.000001\n",
      "66) FwdURGFlags                    0.000000\n",
      "67) RSTFlagCount                   0.000000\n",
      "68) ECEFlagCount                   0.000000\n"
     ]
    }
   ],
   "source": [
    "# The follwing lines are adaptation of a source code from :\n",
    "# http://scikit-learn.org/stable/auto_examples/ensemble/plot_forest_importances.html\n",
    "importances = clf.feature_importances_\n",
    "features_labels = X_train.columns[0:]   \n",
    "indices = np.argsort(importances)[::-1]\n",
    "for f in range(X_train.shape[1]):\n",
    "    print(\"%2d) %-*s %f\" % (f + 1, 30,features_labels[indices[f]],importances[indices[f]]))"
   ]
  },
  {
   "cell_type": "code",
   "execution_count": 25,
   "metadata": {},
   "outputs": [
    {
     "data": {
      "image/png": "[encoded data removed]",
      "text/plain": [
       "<matplotlib.figure.Figure at 0x5a332a20>"
      ]
     },
     "metadata": {},
     "output_type": "display_data"
    }
   ],
   "source": [
    "import matplotlib.pyplot as plt\n",
    "# The follwing lines are adaptation of a source code from :\n",
    "# http://scikit-learn.org/stable/auto_examples/ensemble/plot_forest_importances.html\n",
    "# Plot the features importances\n",
    "plt.figure(figsize=(10,6))\n",
    "plt.title(\"Features importances\")\n",
    "plt.bar(range(X_train.shape[1]), importances[indices],\n",
    "       color='#2e74b5', align=\"center\")\n",
    "plt.xlim([-1, X_train.shape[1]])\n",
    "plt.show()"
   ]
  },
  {
   "cell_type": "code",
   "execution_count": 22,
   "metadata": {},
   "outputs": [
    {
     "name": "stdout",
     "output_type": "stream",
     "text": [
      " 1) Init_Win_bytes_backward        0.078754\n",
      " 2) Init_Win_bytes_forward         0.035087\n",
      " 3) FwdPacketLengthMax             0.034939\n",
      " 4) min_seg_size_forward           0.031537\n",
      " 5) PacketLengthMean               0.029018\n",
      " 6) SubflowFwdBytes                0.025572\n",
      " 7) BwdPacketLengthMean            0.024790\n",
      " 8) BwdPacketLengthMax             0.024562\n",
      " 9) AvgBwdSegmentSize              0.024307\n",
      "10) BwdPackets/s                   0.023839\n",
      "11) FlowIATMean                    0.023653\n",
      "12) BwdPacketLengthMin             0.023111\n",
      "13) FlowIATMin                     0.022906\n",
      "14) BwdHeaderLength                0.022014\n",
      "15) FwdIATMin                      0.021740\n",
      "16) TotalLengthofBwdPackets        0.021548\n",
      "17) FlowPackets/s                  0.021383\n",
      "18) TotalLengthofFwdPackets        0.020728\n",
      "19) SubflowBwdBytes                0.019838\n",
      "20) FwdIATMean                     0.019306\n",
      "21) AveragePacketSize              0.018960\n",
      "22) FlowDuration                   0.018541\n",
      "23) MaxPacketLength                0.018135\n",
      "24) FlowIATStd                     0.017782\n",
      "25) FwdIATTotal                    0.017776\n",
      "26) FwdPacketLengthMean            0.017283\n",
      "27) FlowBytesPs                    0.017121\n",
      "28) PacketLengthVariance           0.016894\n",
      "29) FwdIATStd                      0.016774\n",
      "30) FlowIATMax                     0.016687\n",
      "31) FwdIATMax                      0.016588\n",
      "32) PacketLengthStd                0.016365\n",
      "33) FwdPackets/s                   0.016233\n",
      "34) FwdHeaderLength                0.015763\n",
      "35) SubflowFwdPackets              0.015477\n",
      "36) AvgFwdSegmentSize              0.014766\n",
      "37) SubflowBwdPackets              0.014744\n",
      "38) act_data_pkt_fwd               0.012818\n",
      "39) FwdPacketLengthStd             0.012324\n",
      "40) TotalFwdPackets                0.012314\n",
      "41) TotalBackwardPackets           0.011787\n"
     ]
    }
   ],
   "source": [
    "# I choose to remove feature with importance less than 0.01\n",
    "from sklearn.feature_selection import SelectFromModel\n",
    "\n",
    "sfm = SelectFromModel(clf, threshold=0.01, prefit=True)\n",
    "X_selected = sfm.transform(X_train)\n",
    "selected_columns=[]\n",
    "for f in range(X_selected.shape[1]):\n",
    "    print(\"%2d) %-*s %f\" % (f + 1, 30, \n",
    "                           features_labels[indices[f]], \n",
    "                           importances[indices[f]]))\n",
    "    selected_columns.append(features_labels[indices[f]])"
   ]
  },
  {
   "cell_type": "code",
   "execution_count": 23,
   "metadata": {
    "collapsed": true
   },
   "outputs": [],
   "source": [
    "# Build a new Dataframe using selected columns + Label\n",
    "selected_columns.append('Label')\n",
    "df = df[selected_columns]"
   ]
  },
  {
   "cell_type": "markdown",
   "metadata": {},
   "source": [
    "### Perform transformations on test csv & novelty.csv"
   ]
  },
  {
   "cell_type": "code",
   "execution_count": 24,
   "metadata": {
    "collapsed": true
   },
   "outputs": [],
   "source": [
    "test_baseline_file_path = os.path.join(intermediary_data_path, 'test_baseline.csv')\n",
    "df2 = pd.read_csv(test_baseline_file_path)\n",
    "df2.drop(columns='Flow ID',inplace=True)\n",
    "df2 = df2[selected_columns]\n",
    "\n",
    "test_attacks_file_path = os.path.join(intermediary_data_path, 'test_attacks.csv')\n",
    "df3 = pd.read_csv(test_attacks_file_path)\n",
    "df3.drop(columns='Flow ID',inplace=True)\n",
    "df3 = df3[selected_columns]\n",
    "\n",
    "novelty_file_path = os.path.join(intermediary_data_path, 'novelty.csv')\n",
    "df4 = pd.read_csv(novelty_file_path)\n",
    "df4.drop(columns='Flow ID',inplace=True)\n",
    "df4 = df4[selected_columns]"
   ]
  },
  {
   "cell_type": "markdown",
   "metadata": {},
   "source": [
    "### Save the processed data in processed path"
   ]
  },
  {
   "cell_type": "code",
   "execution_count": 26,
   "metadata": {
    "collapsed": true
   },
   "outputs": [],
   "source": [
    "processed_data_path = os.path.join(os.path.pardir,'data','processed')\n",
    "write_baseline_train_file = os.path.join(processed_data_path, 'train_baseline.csv')\n",
    "write_attacks_train_file = os.path.join(processed_data_path, 'train_attacks.csv')\n",
    "\n",
    "write_baseline_test_file = os.path.join(processed_data_path, 'test_baseline.csv')\n",
    "write_attacks_test_file = os.path.join(processed_data_path, 'test_attacks.csv')\n",
    "write_novelty_file = os.path.join(processed_data_path, 'novelty.csv')\n",
    "\n",
    "df[df.Label=='BENIGN'].to_csv(write_baseline_train_file,index=False) \n",
    "df[df.Label!='BENIGN'].to_csv(write_attacks_train_file,index=False) \n",
    "df2.to_csv(write_baseline_test_file,index=False) \n",
    "df3.to_csv(write_attacks_test_file,index=False) \n",
    "df4.to_csv(write_novelty_file,index=False) "
   ]
  }
 ],
 "metadata": {
  "kernelspec": {
   "display_name": "Python 3",
   "language": "python",
   "name": "python3"
  },
  "language_info": {
   "codemirror_mode": {
    "name": "ipython",
    "version": 3
   },
   "file_extension": ".py",
   "mimetype": "text/x-python",
   "name": "python",
   "nbconvert_exporter": "python",
   "pygments_lexer": "ipython3",
   "version": "3.6.2"
  }
 },
 "nbformat": 4,
 "nbformat_minor": 2
}
