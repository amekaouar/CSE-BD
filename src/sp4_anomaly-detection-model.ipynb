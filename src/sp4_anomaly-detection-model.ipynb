{
 "cells": [
  {
   "cell_type": "markdown",
   "metadata": {},
   "source": [
    "# Executive Certificate Big Data - Centrale Supelec - Octobre 2018\n",
    "# Détection d’intrusion réseau à l’aide de l’apprentissage automatique\n",
    "### Notebook : sp4_anomaly-detection-model\n",
    "### Auteur : Ahmed Mekaouar"
   ]
  },
  {
   "cell_type": "markdown",
   "metadata": {},
   "source": [
    "# Anomaly detection model"
   ]
  },
  {
   "cell_type": "code",
   "execution_count": 2,
   "metadata": {
    "collapsed": true
   },
   "outputs": [],
   "source": [
    "import os\n",
    "import pandas as pd\n",
    "import numpy as np"
   ]
  },
  {
   "cell_type": "markdown",
   "metadata": {},
   "source": [
    "### Load baseline, attack and novelty data "
   ]
  },
  {
   "cell_type": "code",
   "execution_count": 3,
   "metadata": {
    "collapsed": true
   },
   "outputs": [],
   "source": [
    "# Get the data before any feature selection is made, so avoiding that RF feature selection introduce a biais in movelty\n",
    "# detection model\n",
    "intermediary_data_path = os.path.join(os.path.pardir,'data','intermediary')\n",
    "baseline_file_path = os.path.join(intermediary_data_path, 'train_baseline.csv')\n",
    "attacks_file_path = os.path.join(intermediary_data_path, 'train_attacks.csv')\n",
    "novelty_file_path = os.path.join(intermediary_data_path, 'novelty.csv')"
   ]
  },
  {
   "cell_type": "code",
   "execution_count": 4,
   "metadata": {
    "collapsed": true
   },
   "outputs": [],
   "source": [
    "df = pd.read_csv(baseline_file_path).drop(columns='Flow ID')\n",
    "df2 = pd.read_csv(attacks_file_path).drop(columns='Flow ID')\n",
    "df3 = pd.read_csv(novelty_file_path).drop(columns='Flow ID')"
   ]
  },
  {
   "cell_type": "code",
   "execution_count": 5,
   "metadata": {
    "collapsed": true
   },
   "outputs": [],
   "source": [
    "X = df.drop(columns=['Label'],axis=1)"
   ]
  },
  {
   "cell_type": "code",
   "execution_count": 6,
   "metadata": {
    "collapsed": true
   },
   "outputs": [],
   "source": [
    "X2 = df2.drop(columns=['Label'],axis=1)"
   ]
  },
  {
   "cell_type": "code",
   "execution_count": 7,
   "metadata": {
    "collapsed": true
   },
   "outputs": [],
   "source": [
    "X2_DoSHulk = df2[df2.Label=='DoS Hulk'].drop(columns=['Label'],axis=1)\n",
    "X2_PortScan = df2[df2.Label=='PortScan'].drop(columns=['Label'],axis=1)\n",
    "X2_DDoS = df2[df2.Label=='DDoS'].drop(columns=['Label'],axis=1)\n",
    "X2_DoSGoldenEye = df2[df2.Label=='DoS GoldenEye'].drop(columns=['Label'],axis=1)\n",
    "X2_FTPPatator = df2[df2.Label=='FTP-Patator'].drop(columns=['Label'],axis=1)\n",
    "X2_SSHPatator = df2[df2.Label=='SSH-Patator'].drop(columns=['Label'],axis=1)\n",
    "X2_DoSslowloris = df2[df2.Label=='DoS slowloris'].drop(columns=['Label'],axis=1)\n",
    "X2_Bot = df2[df2.Label=='Bot'].drop(columns=['Label'],axis=1)\n",
    "X2_AttackBruteForce = df2[df2.Label=='Web Attack Brute Force'].drop(columns=['Label'],axis=1)\n",
    "X3_DoSSlowhttptest = df3.drop(columns=['Label'],axis=1)"
   ]
  },
  {
   "cell_type": "markdown",
   "metadata": {},
   "source": [
    "## One Class SVM for anomaly detection"
   ]
  },
  {
   "cell_type": "code",
   "execution_count": 8,
   "metadata": {
    "collapsed": true
   },
   "outputs": [],
   "source": [
    "from sklearn.model_selection import train_test_split\n",
    "X_train, X_test = train_test_split( X, test_size=0.2, random_state=24)\n",
    "X_train = X_train.sample(frac=0.1 ,random_state=24)\n",
    "X_test = X_test.sample(frac=0.1 ,random_state=24)\n",
    "# Here we undersample majority classes for train/test to speed up the training/prediction"
   ]
  },
  {
   "cell_type": "markdown",
   "metadata": {},
   "source": [
    "### Features scaling - Train and test data need to be trained separately with the same scaler"
   ]
  },
  {
   "cell_type": "code",
   "execution_count": 9,
   "metadata": {
    "collapsed": true
   },
   "outputs": [],
   "source": [
    "from sklearn.preprocessing import StandardScaler\n",
    "scaler = StandardScaler()\n",
    "X_train_scaled = scaler.fit_transform(X_train)\n",
    "X_test_scaled = scaler.transform(X_test) "
   ]
  },
  {
   "cell_type": "code",
   "execution_count": 9,
   "metadata": {},
   "outputs": [
    {
     "data": {
      "text/plain": [
       "['..\\\\models\\\\ocsvm_scaler_0207.pkl']"
      ]
     },
     "execution_count": 9,
     "metadata": {},
     "output_type": "execute_result"
    }
   ],
   "source": [
    "from sklearn.externals import joblib\n",
    "ocsvm_scaler_file = os.path.join(os.path.pardir,'models','ocsvm_scaler_model.pkl')\n",
    "joblib.dump(scaler, ocsvm_scaler_file)"
   ]
  },
  {
   "cell_type": "code",
   "execution_count": 10,
   "metadata": {
    "collapsed": true,
    "scrolled": true
   },
   "outputs": [],
   "source": [
    "from sklearn import svm\n",
    "\n",
    "clf_ocsvm = svm.OneClassSVM(nu=0.1,\n",
    "                      kernel=\"rbf\",\n",
    "                      gamma=0.2,\n",
    "                      random_state=24,\n",
    "                      cache_size=200)"
   ]
  },
  {
   "cell_type": "code",
   "execution_count": 11,
   "metadata": {
    "scrolled": true
   },
   "outputs": [
    {
     "name": "stdout",
     "output_type": "stream",
     "text": [
      "Wall time: 17min 40s\n"
     ]
    },
    {
     "data": {
      "text/plain": [
       "OneClassSVM(cache_size=200, coef0=0.0, degree=3, gamma=0.2, kernel='rbf',\n",
       "      max_iter=-1, nu=0.1, random_state=24, shrinking=True, tol=0.001,\n",
       "      verbose=False)"
      ]
     },
     "execution_count": 11,
     "metadata": {},
     "output_type": "execute_result"
    }
   ],
   "source": [
    "%%time\n",
    "clf_ocsvm.fit(X_train_scaled)\n",
    "# nu = 0.06, g=0.04  -> 11min 13s\n",
    "# nu = 0.07, g=0.08 -> 12min 54s\n",
    "# nu = 0.1, g=0.2 ->  17min 40s\n",
    "# nu = 0.2, g=0.4  -> 33min 40s\n",
    "# nu = 0.4, g=0.6  -> 1h 1min 2s\n",
    "# nu = 0.6, g=1  -> 1h 8min 46s "
   ]
  },
  {
   "cell_type": "code",
   "execution_count": 16,
   "metadata": {},
   "outputs": [
    {
     "data": {
      "text/plain": [
       "['..\\\\models\\\\ocsvm_nu06_g1_model_2008.pkl']"
      ]
     },
     "execution_count": 16,
     "metadata": {},
     "output_type": "execute_result"
    }
   ],
   "source": [
    "# Save one class svm \n",
    "from sklearn.externals import joblib\n",
    "OCSVM_model_file = os.path.join(os.path.pardir,'models','ocsvm_nu06_g1_model_2008.pkl')\n",
    "joblib.dump(clf_ocsvm, OCSVM_model_file)"
   ]
  },
  {
   "cell_type": "code",
   "execution_count": 58,
   "metadata": {
    "collapsed": true
   },
   "outputs": [],
   "source": [
    "# Load one class svm \n",
    "from sklearn.externals import joblib\n",
    "OCSVM_model_file = os.path.join(os.path.pardir,'models','06-03-S02-OCSVM_G03_nu01_model.pkl')\n",
    "clf = joblib.load(OCSVM_model_file)"
   ]
  },
  {
   "cell_type": "code",
   "execution_count": 17,
   "metadata": {},
   "outputs": [
    {
     "name": "stdout",
     "output_type": "stream",
     "text": [
      "Wall time: 6min 3s\n"
     ]
    }
   ],
   "source": [
    "%%time\n",
    "y_pred_test = clf_ocsvm.predict(X_test_scaled)"
   ]
  },
  {
   "cell_type": "code",
   "execution_count": 18,
   "metadata": {
    "scrolled": false
   },
   "outputs": [
    {
     "data": {
      "text/plain": [
       "-1    0.591495\n",
       " 1    0.408505\n",
       "dtype: float64"
      ]
     },
     "execution_count": 18,
     "metadata": {},
     "output_type": "execute_result"
    }
   ],
   "source": [
    "pd.Series(y_pred_test).value_counts(normalize=True)\n",
    "# nu = 0.1, g=0.2  ->  -1    0.101109 \n",
    "# nu = 0.01, g=0.001  -> -1    0.010856 \n",
    "# nu = 0.02, g=0.01  -> -1    0.02034\n",
    "# nu = 0.04, g=0.02  -> -1    0.039616\n",
    "# nu = 0.06, g=0.04  -> -1    0.0605\n",
    "# nu = 0.07, g=0.08  -> -1    0.070079\n",
    "# nu = 0.2, g=0.4  -> -1    0.20527\n",
    "# nu = 0.4, g=0.6  -> -1    0.393557\n",
    "# nu = 0.6, g=1  -> -1    0.591495"
   ]
  },
  {
   "cell_type": "code",
   "execution_count": 19,
   "metadata": {
    "collapsed": true
   },
   "outputs": [],
   "source": [
    "# I evaluate the detector on attacks \n",
    "X2_scaled = scaler.transform(X2)"
   ]
  },
  {
   "cell_type": "code",
   "execution_count": 20,
   "metadata": {},
   "outputs": [
    {
     "name": "stdout",
     "output_type": "stream",
     "text": [
      "Wall time: 1h 5min 48s\n"
     ]
    }
   ],
   "source": [
    "%%time\n",
    "y2_pred = clf_ocsvm.predict(X2_scaled)"
   ]
  },
  {
   "cell_type": "code",
   "execution_count": 21,
   "metadata": {},
   "outputs": [
    {
     "data": {
      "text/plain": [
       "-1    0.873515\n",
       " 1    0.126485\n",
       "dtype: float64"
      ]
     },
     "execution_count": 21,
     "metadata": {},
     "output_type": "execute_result"
    }
   ],
   "source": [
    "pd.Series(y2_pred).value_counts(normalize=True)\n",
    "# nu = 0.01, g=0.001   -> -1    0.022889\n",
    "# nu = 0.02, g=0.01  -> -1    0.323586\n",
    "# nu = 0.04, g=0.02  ->  -1    0.350494\n",
    "# nu = 0.06, g=0.04  -> -1    0.363936\n",
    "# nu = 0.07, g=0.08   -> -1    0.407584\n",
    "# nu = 0.1, g=0.2  -> -1    0.583815 \n",
    "# nu = 0.2, g=0.4  -> -1    0.635126\n",
    "# nu = 0.4, g=0.6  -> -1    0.724523\n",
    "# nu = 0.6, g=1  -> -1    0.873515"
   ]
  },
  {
   "cell_type": "code",
   "execution_count": 26,
   "metadata": {},
   "outputs": [
    {
     "name": "stdout",
     "output_type": "stream",
     "text": [
      "Wall time: 5min 32s\n"
     ]
    }
   ],
   "source": [
    "%%time\n",
    "X2_DDoS_scaled = scaler.transform(X2_DDoS)\n",
    "y2_DDoS_pred = clf_ocsvm.predict(X2_DDoS_scaled)"
   ]
  },
  {
   "cell_type": "code",
   "execution_count": 91,
   "metadata": {},
   "outputs": [
    {
     "data": {
      "text/plain": [
       "-1    0.699553\n",
       " 1    0.300447\n",
       "dtype: float64"
      ]
     },
     "execution_count": 91,
     "metadata": {},
     "output_type": "execute_result"
    }
   ],
   "source": [
    "pd.Series(y2_DDoS_pred).value_counts(normalize=True)\n",
    "# nu = 0.01, g=0.001  -> -1    0.05698\n",
    "# nu = 0.02, g=0.01  -> -1    0.255442\n",
    "# nu = 0.04, g=0.02  -> -1    0.303066\n",
    "# nu = 0.06, g=0.04  -> -1    0.320686\n",
    "# nu = 0.07, g=0.08   -> -1    0.322677\n",
    "# nu = 0.1, g=0.2  ->  -1    0.335443 \n",
    "# nu = 0.2, g=0.4  -> -1    0.411625\n",
    "# nu = 0.4, g=0.6  -> -1    0.699553"
   ]
  },
  {
   "cell_type": "code",
   "execution_count": 92,
   "metadata": {},
   "outputs": [
    {
     "name": "stdout",
     "output_type": "stream",
     "text": [
      "Wall time: 29 s\n"
     ]
    }
   ],
   "source": [
    "%%time\n",
    "X2_SSHPatator_scaled = scaler.transform(X2_SSHPatator)\n",
    "y2_SSHPatator_pred = clf_ocsvm.predict(X2_SSHPatator_scaled)"
   ]
  },
  {
   "cell_type": "code",
   "execution_count": 93,
   "metadata": {},
   "outputs": [
    {
     "data": {
      "text/plain": [
       "-1    0.50891\n",
       " 1    0.49109\n",
       "dtype: float64"
      ]
     },
     "execution_count": 93,
     "metadata": {},
     "output_type": "execute_result"
    }
   ],
   "source": [
    "pd.Series(y2_SSHPatator_pred).value_counts(normalize=True)\n",
    "# nu = 0.01, g=0.001  -> -1    0.000188\n",
    "# nu = 0.02, g=0.01  ->  -1    0.000563\n",
    "# nu = 0.04, g=0.02  -> -1    0.000563\n",
    "# nu = 0.06, g=0.04  -> -1    0.000563\n",
    "# nu = 0.07, g=0.08   -> -1    0.001125\n",
    "# nu = 0.1, g=0.2  ->  -1    0.001125\n",
    "# nu = 0.2, g=0.4  ->  -1    0.226974\n",
    "# nu = 0.4, g=0.6  -> -1    0.50891"
   ]
  },
  {
   "cell_type": "code",
   "execution_count": 94,
   "metadata": {},
   "outputs": [
    {
     "name": "stdout",
     "output_type": "stream",
     "text": [
      "Wall time: 39 s\n"
     ]
    }
   ],
   "source": [
    "%%time\n",
    "X2_FTPPatator_scaled = scaler.transform(X2_FTPPatator)\n",
    "y2_FTPPatator_pred = clf_ocsvm.predict(X2_FTPPatator_scaled)"
   ]
  },
  {
   "cell_type": "code",
   "execution_count": 95,
   "metadata": {},
   "outputs": [
    {
     "data": {
      "text/plain": [
       "-1    0.997627\n",
       " 1    0.002373\n",
       "dtype: float64"
      ]
     },
     "execution_count": 95,
     "metadata": {},
     "output_type": "execute_result"
    }
   ],
   "source": [
    "pd.Series(y2_FTPPatator_pred).value_counts(normalize=True)\n",
    "\n",
    "# nu = 0.01, g=0.001  ->  -1    0.000698\n",
    "# nu = 0.02, g=0.01  -> -1    0.000977\n",
    "# nu = 0.04, g=0.02  -> -1    0.013817\n",
    "# nu = 0.06, g=0.04  -> -1    0.019819\n",
    "# nu = 0.07, g=0.08   ->  -1    0.006978 ( value error - to be checked!)\n",
    "# nu = 0.1, g=0.2  ->  -1    0.132589\n",
    "# nu = 0.2 , g=0.4 -> -1    0.237264\n",
    "# nu = 0.4, g=0.6  -> -1    0.997627"
   ]
  },
  {
   "cell_type": "code",
   "execution_count": 96,
   "metadata": {},
   "outputs": [
    {
     "name": "stdout",
     "output_type": "stream",
     "text": [
      "Wall time: 48 s\n"
     ]
    }
   ],
   "source": [
    "%%time\n",
    "X2_DoSGoldenEye_scaled = scaler.transform(X2_DoSGoldenEye)\n",
    "y2_DoSGoldenEye_pred = clf_ocsvm.predict(X2_DoSGoldenEye_scaled)"
   ]
  },
  {
   "cell_type": "code",
   "execution_count": 97,
   "metadata": {},
   "outputs": [
    {
     "data": {
      "text/plain": [
       "-1    0.999311\n",
       " 1    0.000689\n",
       "dtype: float64"
      ]
     },
     "execution_count": 97,
     "metadata": {},
     "output_type": "execute_result"
    }
   ],
   "source": [
    "pd.Series(y2_DoSGoldenEye_pred).value_counts(normalize=True)\n",
    "# nu = 0.01, g=0.001  ->  -1    0.089624\n",
    "# nu = 0.02, g=0.01  -> -1    0.336091\n",
    "# nu = 0.04, g=0.02  -> -1    0.528324\n",
    "# nu = 0.06, g=0.04  -> -1    0.677812\n",
    "# nu = 0.07, g=0.08   ->  -1    0.779272\n",
    "# nu = 0.1, g=0.2  ->  -1    0.919798\n",
    "# nu = 0.2, g=0.4  -> -1    0.960358\n",
    "# nu = 0.4, g=0.6  -> -1    0.999311 "
   ]
  },
  {
   "cell_type": "code",
   "execution_count": 98,
   "metadata": {
    "scrolled": true
   },
   "outputs": [
    {
     "name": "stdout",
     "output_type": "stream",
     "text": [
      "Wall time: 27.2 s\n"
     ]
    }
   ],
   "source": [
    "%%time\n",
    "X2_DoSslowloris_scaled = scaler.transform(X2_DoSslowloris)\n",
    "y2_DoSslowloris_pred = clf_ocsvm.predict(X2_DoSslowloris_scaled)"
   ]
  },
  {
   "cell_type": "code",
   "execution_count": 99,
   "metadata": {},
   "outputs": [
    {
     "data": {
      "text/plain": [
       "-1    0.998566\n",
       " 1    0.001434\n",
       "dtype: float64"
      ]
     },
     "execution_count": 99,
     "metadata": {},
     "output_type": "execute_result"
    }
   ],
   "source": [
    "pd.Series(y2_DoSslowloris_pred).value_counts(normalize=True)\n",
    "# nu = 0.01 g=0.001  ->  -1    0.089959\n",
    "# nu = 0.02, g=0.01  -> -1    0.545697\n",
    "# nu = 0.04, g=0.02  -> -1    0.572541\n",
    "# nu = 0.06, g=0.04  -> -1    0.577664\n",
    "# nu = 0.07, g=0.08   -> -1    0.867213\n",
    "# nu = 0.1, g=0.2  ->  -1    0.885041\n",
    "# nu = 0.2, g=0.4  -> -1    0.971311\n",
    "# nu = 0.4, g=0.6  -> -1    0.998566"
   ]
  },
  {
   "cell_type": "code",
   "execution_count": 28,
   "metadata": {},
   "outputs": [
    {
     "name": "stdout",
     "output_type": "stream",
     "text": [
      "Wall time: 47.9 s\n"
     ]
    }
   ],
   "source": [
    "%%time\n",
    "X3_DoSSlowhttptest_scaled = scaler.transform(X3_DoSSlowhttptest)\n",
    "y3_DoSSlowhttptest_pred = clf_ocsvm.predict(X3_DoSSlowhttptest_scaled)"
   ]
  },
  {
   "cell_type": "code",
   "execution_count": 29,
   "metadata": {},
   "outputs": [
    {
     "data": {
      "text/plain": [
       "-1    0.999607\n",
       " 1    0.000393\n",
       "dtype: float64"
      ]
     },
     "execution_count": 29,
     "metadata": {},
     "output_type": "execute_result"
    }
   ],
   "source": [
    "pd.Series(y3_DoSSlowhttptest_pred).value_counts(normalize=True)\n",
    "# nu = 0.01, g=0.001  -> -1    0.235688\n",
    "# nu = 0.02, g=0.01  -> -1    0.684242\n",
    "# nu = 0.04, g=0.02  -> -1    0.907338\n",
    "# nu = 0.06, g=0.04  -> -1    0.958292\n",
    "# nu = 0.07, g=0.08   ->  -1    0.963604\n",
    "# nu = 0.1, g=0.2  -> -1    0.986229\n",
    "# nu = 0.2, g=0.4  -> -1    0.995672\n",
    "# nu = 0.4, g=0.6  -> -1    0.999213\n",
    "# nu = 0.6, g=1  -> -1    0.999607"
   ]
  },
  {
   "cell_type": "code",
   "execution_count": 101,
   "metadata": {},
   "outputs": [
    {
     "name": "stdout",
     "output_type": "stream",
     "text": [
      "Wall time: 6.8 s\n"
     ]
    }
   ],
   "source": [
    "%%time\n",
    "X2_AttackBruteForce_scaled = scaler.transform(X2_AttackBruteForce)\n",
    "y2_AttackBruteForce_pred = clf_ocsvm.predict(X2_AttackBruteForce_scaled)"
   ]
  },
  {
   "cell_type": "code",
   "execution_count": 102,
   "metadata": {},
   "outputs": [
    {
     "data": {
      "text/plain": [
       " 1    0.502392\n",
       "-1    0.497608\n",
       "dtype: float64"
      ]
     },
     "execution_count": 102,
     "metadata": {},
     "output_type": "execute_result"
    }
   ],
   "source": [
    "pd.Series(y2_AttackBruteForce_pred).value_counts(normalize=True)\n",
    "# nu = 0.01, g=0.001  -> -1   0\n",
    "# nu = 0.02, g=0.01  -> -1    0.049442\n",
    "# nu = 0.04, g=0.02  -> -1    0.050239\n",
    "# nu = 0.06, g=0.04  -> -1    0.050239\n",
    "# nu = 0.07, g=0.08  -> -1    0.051037\n",
    "# nu = 0.1, g=0.2  -> -1    0.052632\n",
    "# nu = 0.2, g=0.4  -> -1    0.055821\n",
    "# nu = 0.4, g=0.6  -> -1    0.497608"
   ]
  },
  {
   "cell_type": "code",
   "execution_count": 103,
   "metadata": {},
   "outputs": [
    {
     "name": "stdout",
     "output_type": "stream",
     "text": [
      "Wall time: 9.48 s\n"
     ]
    }
   ],
   "source": [
    "%%time\n",
    "X2_Bot_scaled = scaler.transform(X2_Bot)\n",
    "y2_Bot_pred = clf_ocsvm.predict(X2_Bot_scaled)"
   ]
  },
  {
   "cell_type": "code",
   "execution_count": 104,
   "metadata": {},
   "outputs": [
    {
     "data": {
      "text/plain": [
       " 1    0.599772\n",
       "-1    0.400228\n",
       "dtype: float64"
      ]
     },
     "execution_count": 104,
     "metadata": {},
     "output_type": "execute_result"
    }
   ],
   "source": [
    "pd.Series(y2_Bot_pred).value_counts(normalize=True)\n",
    "# nu = 0.01, g=0.001  -> -1    0.025656\n",
    "# nu = 0.02, g=0.01  -> -1    0.023945\n",
    "# nu = 0.04, g=0.02  -> -1    0.027936\n",
    "# nu = 0.06, g=0.04  -> -1    0.029076\n",
    "# nu = 0.07, g=0.08  -> -1    0.031927\n",
    "# nu = 0.1, g=0.2  -> -1    0.0439\n",
    "# nu = 0.2, g=0.4  -> -1    0.09236\n",
    "# nu = 0.4, g=0.6  -> -1    0.400228"
   ]
  },
  {
   "cell_type": "code",
   "execution_count": 105,
   "metadata": {},
   "outputs": [
    {
     "name": "stdout",
     "output_type": "stream",
     "text": [
      "Wall time: 13min 10s\n"
     ]
    }
   ],
   "source": [
    "%%time\n",
    "X2_PortScan_scaled = scaler.transform(X2_PortScan)\n",
    "y2_PortScan_pred = clf_ocsvm.predict(X2_PortScan_scaled)"
   ]
  },
  {
   "cell_type": "code",
   "execution_count": 106,
   "metadata": {},
   "outputs": [
    {
     "data": {
      "text/plain": [
       "-1    0.574469\n",
       " 1    0.425531\n",
       "dtype: float64"
      ]
     },
     "execution_count": 106,
     "metadata": {},
     "output_type": "execute_result"
    }
   ],
   "source": [
    "pd.Series(y2_PortScan_pred).value_counts(normalize=True)\n",
    "# nu = 0.01, g=0.001  ->  -1    0.003035\n",
    "# nu = 0.02, g=0.01  -> -1    0.004811\n",
    "# nu = 0.04, g=0.02  -> -1    0.008896\n",
    "# nu = 0.06, g=0.04  -> -1    0.016987\n",
    "# nu = 0.07, g=0.08  -> -1   0.06343\n",
    "# nu = 0.1, g=0.2  ->  -1    0.518619 (retrieved from backup file)\n",
    "# nu = 0.2, g=0.4  -> -1    0.550635\n",
    "# nu = 0.4, g=0.6  -> -1    0.574469"
   ]
  },
  {
   "cell_type": "code",
   "execution_count": 75,
   "metadata": {},
   "outputs": [
    {
     "name": "stdout",
     "output_type": "stream",
     "text": [
      "Wall time: 9min 4s\n"
     ]
    }
   ],
   "source": [
    "%%time\n",
    "X2_DoSHulk_scaled = scaler.transform(X2_DoSHulk)\n",
    "y2_DoSHulk_pred = clf_ocsvm.predict(X2_DoSHulk_scaled)"
   ]
  },
  {
   "cell_type": "code",
   "execution_count": 76,
   "metadata": {},
   "outputs": [
    {
     "data": {
      "text/plain": [
       "-1    0.753016\n",
       " 1    0.246984\n",
       "dtype: float64"
      ]
     },
     "execution_count": 76,
     "metadata": {},
     "output_type": "execute_result"
    }
   ],
   "source": [
    "pd.Series(y2_DoSHulk_pred).value_counts(normalize=True)\n",
    "# nu = 0.01, g=0.001  -> -1    0.027937\n",
    "# nu = 0.02, g=0.01  ->  -1    0.591743\n",
    "# nu = 0.04, g=0.02  ->  -1    0.625854\n",
    "# nu = 0.06, g=0.04  -> -1    0.637401\n",
    "# nu = 0.07, g=0.08  -> -1    0.68213\n",
    "# nu = 0.1, g=0.2  -> -1    0.698164\n",
    "# nu = 0.2, g=0.4  -> -1    0.753016\n",
    "# nu = 0.4, g=0.6  ->"
   ]
  },
  {
   "cell_type": "markdown",
   "metadata": {},
   "source": [
    "## ROC curve"
   ]
  },
  {
   "cell_type": "code",
   "execution_count": 1,
   "metadata": {},
   "outputs": [
    {
     "data": {
      "image/png": "[encoded data removed]",
      "text/plain": [
       "<matplotlib.figure.Figure at 0x57ec7f0>"
      ]
     },
     "metadata": {},
     "output_type": "display_data"
    }
   ],
   "source": [
    "import matplotlib.pyplot as plt\n",
    "from sklearn.metrics import roc_curve, auc\n",
    "# This is an adaptation from  http://scikit-learn.org/stable/auto_examples/model_selection/plot_roc.html\n",
    "\n",
    "fpr = [0,0.01,0.02,0.04,0.06,0.07,0.1,0.2,0.4,0.6,1]\n",
    "tpr_attacks =[0,0.022889, 0.323586,0.350494,0.363936,0.407584,0.583815,0.635126,0.724523,0.873515,1]\n",
    "tpr_DoSSlowhttptest =[0,0.235688, 0.684242,0.907338,0.958292,0.963604,0.986229,0.995672,0.999213,0.999607,1]\n",
    "roc_auc_all = auc(fpr,tpr_attacks)\n",
    "roc_auc_DoSSlowhttptest = auc(fpr,tpr_DoSSlowhttptest)\n",
    "\n",
    "plt.figure()\n",
    "lw = 2\n",
    "plt.plot(fpr, tpr_attacks, color='darkorange',\n",
    "         lw=lw, label='All attacks (area = %0.2f)' % roc_auc_all)\n",
    "plt.plot(fpr, tpr_DoSSlowhttptest, color='green',\n",
    "         lw=lw, label='DoSSlowhttptest (area = %0.2f)' % roc_auc_DoSSlowhttptest)\n",
    "plt.plot([0, 1], [0, 1], color='navy', lw=lw, linestyle='--')\n",
    "plt.xlim([0.0, 1.0])\n",
    "plt.ylim([0.0, 1.05])\n",
    "plt.xlabel('False Positive Rate')\n",
    "plt.ylabel('True Positive Rate')\n",
    "plt.title('One-Class SVM ROC')\n",
    "plt.legend(loc=\"lower right\")\n",
    "plt.show()"
   ]
  },
  {
   "cell_type": "markdown",
   "metadata": {},
   "source": [
    "# IsolationForest for Outlier detection"
   ]
  },
  {
   "cell_type": "code",
   "execution_count": 17,
   "metadata": {
    "collapsed": true
   },
   "outputs": [],
   "source": [
    "from sklearn.model_selection import train_test_split\n",
    "X_train, X_test = train_test_split( X, test_size=0.5, random_state=24)\n",
    "X2_train, X2_test = train_test_split( X2, test_size=0.99, random_state=24)\n",
    "X_train = X_train.sample(frac=0.1 ,random_state=24)\n",
    "X_train = pd.concat([X_train,X2_train])"
   ]
  },
  {
   "cell_type": "code",
   "execution_count": 18,
   "metadata": {},
   "outputs": [
    {
     "data": {
      "text/plain": [
       "(121925, 68)"
      ]
     },
     "execution_count": 18,
     "metadata": {},
     "output_type": "execute_result"
    }
   ],
   "source": [
    "X_train.shape"
   ]
  },
  {
   "cell_type": "code",
   "execution_count": 19,
   "metadata": {},
   "outputs": [
    {
     "data": {
      "text/plain": [
       "(4478, 68)"
      ]
     },
     "execution_count": 19,
     "metadata": {},
     "output_type": "execute_result"
    }
   ],
   "source": [
    "X2_train.shape"
   ]
  },
  {
   "cell_type": "code",
   "execution_count": 20,
   "metadata": {
    "collapsed": true
   },
   "outputs": [],
   "source": [
    "from sklearn.ensemble import IsolationForest\n",
    "clf_IF = IsolationForest(n_estimators=200,\n",
    "                         contamination=0.0354,\n",
    "                         random_state=0,\n",
    "                         n_jobs=1)"
   ]
  },
  {
   "cell_type": "code",
   "execution_count": 21,
   "metadata": {},
   "outputs": [
    {
     "name": "stdout",
     "output_type": "stream",
     "text": [
      "Wall time: 27.7 s\n"
     ]
    },
    {
     "data": {
      "text/plain": [
       "IsolationForest(bootstrap=False, contamination=0.0354, max_features=1.0,\n",
       "        max_samples='auto', n_estimators=200, n_jobs=1, random_state=0,\n",
       "        verbose=0)"
      ]
     },
     "execution_count": 21,
     "metadata": {},
     "output_type": "execute_result"
    }
   ],
   "source": [
    "%%time\n",
    "clf_IF.fit(X_train)"
   ]
  },
  {
   "cell_type": "code",
   "execution_count": 24,
   "metadata": {},
   "outputs": [
    {
     "data": {
      "text/plain": [
       "['..\\\\models\\\\2018-06-06-IF_model.pkl']"
      ]
     },
     "execution_count": 24,
     "metadata": {},
     "output_type": "execute_result"
    }
   ],
   "source": [
    "# Save IsolationForest model\n",
    "from sklearn.externals import joblib\n",
    "IF_model_file = os.path.join(os.path.pardir,'models','2018-06-06-IF_model.pkl')\n",
    "joblib.dump(clf_IF, IF_model_file)"
   ]
  },
  {
   "cell_type": "code",
   "execution_count": 22,
   "metadata": {},
   "outputs": [
    {
     "name": "stdout",
     "output_type": "stream",
     "text": [
      "Wall time: 16.3 s\n"
     ]
    }
   ],
   "source": [
    "%%time\n",
    "y_pred_train = clf_IF.predict(X_train)"
   ]
  },
  {
   "cell_type": "code",
   "execution_count": 23,
   "metadata": {},
   "outputs": [
    {
     "data": {
      "text/plain": [
       " 1    0.964593\n",
       "-1    0.035407\n",
       "dtype: float64"
      ]
     },
     "execution_count": 23,
     "metadata": {},
     "output_type": "execute_result"
    }
   ],
   "source": [
    "pd.Series(y_pred_train).value_counts(normalize=True)"
   ]
  },
  {
   "cell_type": "code",
   "execution_count": 24,
   "metadata": {},
   "outputs": [
    {
     "name": "stdout",
     "output_type": "stream",
     "text": [
      "Wall time: 58 s\n"
     ]
    }
   ],
   "source": [
    "%%time\n",
    "y_pred_test = clf_IF.predict(X_test.sample(frac=0.3 ,random_state=24))\n",
    "# Sampling to avoid memory error"
   ]
  },
  {
   "cell_type": "code",
   "execution_count": 25,
   "metadata": {},
   "outputs": [
    {
     "data": {
      "text/plain": [
       " 1    0.972135\n",
       "-1    0.027865\n",
       "dtype: float64"
      ]
     },
     "execution_count": 25,
     "metadata": {},
     "output_type": "execute_result"
    }
   ],
   "source": [
    "pd.Series(y_pred_test).value_counts(normalize=True)"
   ]
  },
  {
   "cell_type": "code",
   "execution_count": 26,
   "metadata": {},
   "outputs": [
    {
     "data": {
      "text/plain": [
       "(443376, 68)"
      ]
     },
     "execution_count": 26,
     "metadata": {},
     "output_type": "execute_result"
    }
   ],
   "source": [
    "X2_test.shape"
   ]
  },
  {
   "cell_type": "code",
   "execution_count": 27,
   "metadata": {},
   "outputs": [
    {
     "name": "stdout",
     "output_type": "stream",
     "text": [
      "Wall time: 29.9 s\n"
     ]
    }
   ],
   "source": [
    "%%time\n",
    "y2_pred = clf_IF.predict(X2_test.sample(frac=0.5 ,random_state=24))\n",
    "# Sampling to avoid memmory error"
   ]
  },
  {
   "cell_type": "code",
   "execution_count": 28,
   "metadata": {},
   "outputs": [
    {
     "data": {
      "text/plain": [
       " 1    0.766347\n",
       "-1    0.233653\n",
       "dtype: float64"
      ]
     },
     "execution_count": 28,
     "metadata": {},
     "output_type": "execute_result"
    }
   ],
   "source": [
    "pd.Series(y2_pred).value_counts(normalize=True)"
   ]
  },
  {
   "cell_type": "code",
   "execution_count": 36,
   "metadata": {},
   "outputs": [
    {
     "name": "stdout",
     "output_type": "stream",
     "text": [
      "Wall time: 608 ms\n"
     ]
    }
   ],
   "source": [
    "%%time\n",
    "y3_DoSSlowhttptest_pred = clf_IF.predict(X3_DoSSlowhttptest)"
   ]
  },
  {
   "cell_type": "code",
   "execution_count": 37,
   "metadata": {},
   "outputs": [
    {
     "data": {
      "text/plain": [
       " 1    0.751721\n",
       "-1    0.248279\n",
       "dtype: float64"
      ]
     },
     "execution_count": 37,
     "metadata": {},
     "output_type": "execute_result"
    }
   ],
   "source": [
    "pd.Series(y3_DoSSlowhttptest_pred).value_counts(normalize=True)"
   ]
  },
  {
   "cell_type": "code",
   "execution_count": null,
   "metadata": {
    "collapsed": true
   },
   "outputs": [],
   "source": []
  }
 ],
 "metadata": {
  "kernelspec": {
   "display_name": "Python 3",
   "language": "python",
   "name": "python3"
  },
  "language_info": {
   "codemirror_mode": {
    "name": "ipython",
    "version": 3
   },
   "file_extension": ".py",
   "mimetype": "text/x-python",
   "name": "python",
   "nbconvert_exporter": "python",
   "pygments_lexer": "ipython3",
   "version": "3.6.2"
  }
 },
 "nbformat": 4,
 "nbformat_minor": 2
}
